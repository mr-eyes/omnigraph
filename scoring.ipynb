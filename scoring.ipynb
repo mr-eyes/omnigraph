{
 "cells": [
  {
   "cell_type": "code",
   "execution_count": 1,
   "metadata": {},
   "outputs": [],
   "source": [
    "import kProcessor as kp"
   ]
  },
  {
   "cell_type": "markdown",
   "metadata": {},
   "source": [
    "### Load the index"
   ]
  },
  {
   "cell_type": "code",
   "execution_count": 2,
   "metadata": {},
   "outputs": [],
   "source": [
    "idx = kp.colored_kDataFrame.load(\"index/idx_gencode.v32.transcripts\")"
   ]
  },
  {
   "cell_type": "markdown",
   "metadata": {},
   "source": [
    "### Get the namesMap"
   ]
  },
  {
   "cell_type": "code",
   "execution_count": 3,
   "metadata": {},
   "outputs": [],
   "source": [
    "names_map = idx.names_map()"
   ]
  },
  {
   "cell_type": "markdown",
   "metadata": {},
   "source": [
    "### Create a batch query"
   ]
  },
  {
   "cell_type": "code",
   "execution_count": 4,
   "metadata": {},
   "outputs": [],
   "source": [
    "batchQuery = kp.ckf_batchQuery(idx, \"read.fa\", {\"mode\" : 1, \"k_size\" : 21} , 1)"
   ]
  },
  {
   "cell_type": "markdown",
   "metadata": {},
   "source": [
    "### Get all the queries"
   ]
  },
  {
   "cell_type": "code",
   "execution_count": 5,
   "metadata": {},
   "outputs": [],
   "source": [
    "all_results = dict()\n",
    "\n",
    "while not batchQuery.end():\n",
    "    batchQuery.next()\n",
    "    result = batchQuery.get_transcripts()\n",
    "    \n",
    "    for read_id, kmers in result.items():\n",
    "        score = dict()\n",
    "        flattened = []\n",
    "        \n",
    "        for kmer in kmers:\n",
    "            flattened += [x for x in kmer]\n",
    "        \n",
    "        most_frequent = max(set(flattened), key = flattened.count)\n",
    "        all_results[read_id] = most_frequent"
   ]
  },
  {
   "cell_type": "markdown",
   "metadata": {},
   "source": [
    "### Print scores"
   ]
  },
  {
   "cell_type": "code",
   "execution_count": 6,
   "metadata": {},
   "outputs": [
    {
     "name": "stdout",
     "output_type": "stream",
     "text": [
      "Query Read: qread1\n",
      "Matched Transcript: ENST00000456328.2|ENSG00000223972.5|OTTHUMG00000000961.2|OTTHUMT00000362751.1|DDX11L1-202|DDX11L1|1657|lncRNA|\n",
      "---------------------\n",
      "Query Read: qread2\n",
      "Matched Transcript: ENST00000387460.2|ENSG00000210195.2|-|-|MT-TT-201|MT-TT|66|Mt_tRNA|\n",
      "---------------------\n",
      "Query Read: qread3\n",
      "Matched Transcript: ENST00000387461.2|ENSG00000210196.2|-|-|MT-TP-201|MT-TP|68|Mt_tRNA|\n",
      "---------------------\n"
     ]
    }
   ],
   "source": [
    "for read_id, matched_transcript in all_results.items():\n",
    "    print(f\"Query Read: {read_id}\")\n",
    "    print(f\"Matched Transcript: {names_map[matched_transcript]}\")\n",
    "    print(\"---------------------\")\n",
    "    "
   ]
  }
 ],
 "metadata": {
  "kernelspec": {
   "display_name": "Python 3",
   "language": "python",
   "name": "python3"
  },
  "language_info": {
   "codemirror_mode": {
    "name": "ipython",
    "version": 3
   },
   "file_extension": ".py",
   "mimetype": "text/x-python",
   "name": "python",
   "nbconvert_exporter": "python",
   "pygments_lexer": "ipython3",
   "version": "3.6.7"
  }
 },
 "nbformat": 4,
 "nbformat_minor": 4
}
